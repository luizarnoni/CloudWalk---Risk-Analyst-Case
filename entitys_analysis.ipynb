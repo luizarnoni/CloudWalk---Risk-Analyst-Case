{
 "cells": [
  {
   "cell_type": "code",
   "execution_count": 10,
   "id": "fe6ef106-f686-494e-b279-99424535b43f",
   "metadata": {
    "tags": []
   },
   "outputs": [],
   "source": [
    "import pandas as pd\n",
    "\n",
    "# Load suspicious transactions from CSV\n",
    "suspicious_transactions = pd.read_csv('suspicious_transactions.csv')\n",
    "\n",
    "# Load the full transactional data from the provided URL\n",
    "transactional_data_url = 'https://gist.githubusercontent.com/cloudwalk-tests/76993838e65d7e0f988f40f1b1909c97/raw/9ceae962009236d3570f46e59ce9aa334e4e290f/transactional-sample.csv'\n",
    "full_transaction_data = pd.read_csv(transactional_data_url)\n",
    "\n",
    "# Merge suspicious transactions with the full transactional data using transaction_id\n",
    "merged_data = pd.merge(suspicious_transactions, full_transaction_data, on='transaction_id', how='inner')\n",
    "\n",
    "# Identify user_id and merchant_id appearing more than once in suspicious transactions\n",
    "duplicate_entities = merged_data[(merged_data['user_id'].duplicated()) | (merged_data['merchant_id'].duplicated())]\n",
    "\n",
    "# Create a dictionary to store the results\n",
    "result_dict = {\n",
    "    'entity_id': [],\n",
    "    'entity_type': [],\n",
    "    'num_suspicious_transactions': [],\n",
    "    'num_chargebacks': [],\n",
    "   \n",
    "    'sum_transaction_amount': [],\n",
    "    'transaction_ids': []  # Added for storing comma-separated transaction_ids\n",
    "}\n",
    "\n",
    "# Iterate through each entity (user_id or merchant_id)\n",
    "for entity_type, entity_id_col in [('user', 'user_id'), ('merchant', 'merchant_id')]:\n",
    "    entities = duplicate_entities[entity_id_col].unique()\n",
    "\n",
    "    for entity_id in entities:\n",
    "        entity_data = duplicate_entities[duplicate_entities[entity_id_col] == entity_id]\n",
    "\n",
    "        num_suspicious_transactions = entity_data.shape[0]\n",
    "\n",
    "        # Check if the user or merchant is involved in more than one suspicious transaction\n",
    "        if num_suspicious_transactions > 1:\n",
    "            num_chargebacks = entity_data['has_cbk'].sum()\n",
    "            num_transactions_involved = len(entity_data['transaction_id'].unique())\n",
    "            sum_transaction_amount = entity_data['transaction_amount'].sum()\n",
    "\n",
    "            # Join transaction_ids into a comma-separated string\n",
    "            transaction_ids = ','.join(entity_data['transaction_id'].astype(str).unique())\n",
    "\n",
    "            result_dict['entity_id'].append(entity_id)\n",
    "            result_dict['entity_type'].append(entity_type)\n",
    "            result_dict['num_suspicious_transactions'].append(num_suspicious_transactions)\n",
    "            result_dict['num_chargebacks'].append(num_chargebacks)\n",
    "            result_dict['sum_transaction_amount'].append(sum_transaction_amount)\n",
    "            result_dict['transaction_ids'].append(transaction_ids)\n",
    "   \n",
    "\n",
    "# Create a DataFrame from the dictionary\n",
    "result_df = pd.DataFrame(result_dict)\n",
    "\n",
    "# Sort the results by the number of times involved in suspicious transactions and by the sum of transaction amounts\n",
    "result_df = result_df.sort_values(by=['num_suspicious_transactions', 'sum_transaction_amount'], ascending=[False, False])\n",
    "\n",
    "# Save the sorted results to a CSV file\n",
    "result_df.to_csv('entity_summary.csv', index=False)\n"
   ]
  },
  {
   "cell_type": "code",
   "execution_count": null,
   "id": "48099b46-adf5-4503-b421-184c83b2e8c5",
   "metadata": {},
   "outputs": [],
   "source": []
  }
 ],
 "metadata": {
  "kernelspec": {
   "display_name": "Python 3 (ipykernel)",
   "language": "python",
   "name": "python3"
  },
  "language_info": {
   "codemirror_mode": {
    "name": "ipython",
    "version": 3
   },
   "file_extension": ".py",
   "mimetype": "text/x-python",
   "name": "python",
   "nbconvert_exporter": "python",
   "pygments_lexer": "ipython3",
   "version": "3.11.5"
  }
 },
 "nbformat": 4,
 "nbformat_minor": 5
}
