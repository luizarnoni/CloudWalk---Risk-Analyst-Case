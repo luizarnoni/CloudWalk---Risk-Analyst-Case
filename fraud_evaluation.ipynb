{
 "cells": [
  {
   "cell_type": "code",
   "execution_count": 46,
   "id": "b1267fb0-3773-4b86-846e-7e1397ee89cb",
   "metadata": {
    "tags": []
   },
   "outputs": [],
   "source": [
    "import pandas as pd\n",
    "\n",
    
    "transactional_data_url = 'https://gist.githubusercontent.com/cloudwalk-tests/76993838e65d7e0f988f40f1b1909c97/raw/9ceae962009236d3570f46e59ce9aa334e4e290f/transactional-sample.csv'\n",
    "transactional_data = pd.read_csv(transactional_data_url)[['user_id', 'merchant_id', 'transaction_amount', 'transaction_id']]\n",
    "\n",
   
    "entity_summary_url = 'https://raw.githubusercontent.com/luizarnoni/CloudWalk---Risk-Analyst-Case/main/entity_summary.csv'\n",
    "entity_summary = pd.read_csv(entity_summary_url)[['entity_id', 'entity_type', 'num_suspicious_transactions']]\n",
    "\n",
    
    "suspicious_transactions_url = 'https://raw.githubusercontent.com/luizarnoni/CloudWalk---Risk-Analyst-Case/main/suspicious_transactions.csv'\n",
    "suspicious_transactions = pd.read_csv(suspicious_transactions_url)[['transaction_id', 'score']]\n",
    "\n",
   
    "merged_data = pd.merge(transactional_data, suspicious_transactions, on='transaction_id', how='left')\n",
    "\n",
  
    "fraud_evaluation_dict = {\n",
    "    'transaction_id': [],\n",
    "    'fraud_chance': [],\n",
    "    'listed_as_suspicious': [],\n",
    "    'user_related_suspicion_count': [],\n",
    "    'merchant_related_suspicion_count': []\n",
    "}\n",
    "\n",
   
    "for _, transaction_row in merged_data.iterrows():\n",
    "    transaction_id = transaction_row['transaction_id']\n",
    "    user_id = transaction_row['user_id']\n",
    "    merchant_id = transaction_row['merchant_id']\n",
    "\n",
  
    "    user_related = user_id in entity_summary[entity_summary['entity_id'] == user_id]['entity_id'].values\n",
    "    merchant_related = merchant_id in entity_summary[entity_summary['entity_id'] == merchant_id]['entity_id'].values\n",
    "\n",
   
    "    if not pd.isnull(transaction_row['score']) and transaction_row['score'] >= 5 and (user_related or merchant_related):\n",
    "        fraud_chance = 'high'\n",
    "        listed_as_suspicious = True\n",
    "    elif not pd.isnull(transaction_row['score']) and 2 < transaction_row['score'] <= 4 and (user_related or merchant_related):\n",
    "        fraud_chance = 'medium-high'\n",
    "        listed_as_suspicious = True\n",
    "    elif not pd.isnull(transaction_row['score']) and 0 < transaction_row['score'] <= 2 and (user_related or merchant_related):\n",
    "        fraud_chance = 'medium'\n",
    "        listed_as_suspicious = True\n",
    "    else:\n",
    "        fraud_chance = 'no evidence'\n",
    "        listed_as_suspicious = False\n",
    "\n",
   
    "    user_related_suspicion_count = entity_summary[entity_summary['entity_id'] == user_id]['num_suspicious_transactions'].values[0] if user_related else 0\n",
    "    merchant_related_suspicion_count = entity_summary[entity_summary['entity_id'] == merchant_id]['num_suspicious_transactions'].values[0] if merchant_related else 0\n",
    "\n",
   
    "    fraud_evaluation_dict['transaction_id'].append(transaction_id)\n",
    "    fraud_evaluation_dict['fraud_chance'].append(fraud_chance)\n",
    "    fraud_evaluation_dict['listed_as_suspicious'].append(listed_as_suspicious)\n",
    "    fraud_evaluation_dict['user_related_suspicion_count'].append(user_related_suspicion_count)\n",
    "    fraud_evaluation_dict['merchant_related_suspicion_count'].append(merchant_related_suspicion_count)\n",
    "\n",
   
    "fraud_evaluation_df = pd.DataFrame(fraud_evaluation_dict)\n",
    "\n",
 
    "fraud_evaluation_df['fraud_chance'] = pd.Categorical(fraud_evaluation_df['fraud_chance'],\n",
    "                                                     categories=['high', 'medium-high', 'medium', 'no evidence'],\n",
    "                                                     ordered=True)\n",
    "fraud_evaluation_df = fraud_evaluation_df.sort_values(by='fraud_chance')\n",
    "\n",
  
    "fraud_evaluation_df.to_csv('fraud_evaluation_results.csv', index=False)\n"
   ]
  },
  {
   "cell_type": "code",
   "execution_count": null,
   "id": "bb1271cb-cab8-404b-8e35-8fb7a554e07b",
   "metadata": {},
   "outputs": [],
   "source": []
  },
  {
   "cell_type": "code",
   "execution_count": null,
   "id": "e061004d-2200-4cae-8463-2380f9d43bb0",
   "metadata": {},
   "outputs": [],
   "source": []
  }
 ],
 "metadata": {
  "kernelspec": {
   "display_name": "Python 3 (ipykernel)",
   "language": "python",
   "name": "python3"
  },
  "language_info": {
   "codemirror_mode": {
    "name": "ipython",
    "version": 3
   },
   "file_extension": ".py",
   "mimetype": "text/x-python",
   "name": "python",
   "nbconvert_exporter": "python",
   "pygments_lexer": "ipython3",
   "version": "3.11.5"
  }
 },
 "nbformat": 4,
 "nbformat_minor": 5
}
