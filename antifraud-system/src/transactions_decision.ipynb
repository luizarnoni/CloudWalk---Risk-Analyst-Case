{
 "cells": [
  {
   "cell_type": "code",
   "execution_count": 12,
   "id": "80b757bc-3501-416e-9a03-7eff21c8afc7",
   "metadata": {},
   "outputs": [],
   "source": [
    "import pandas as pd\n",
    "import os\n",
    "\n",
    "fraud_evaluation_results_url = 'src/data/fraud_evaluation_results.csv'\n",
    "fraud_evaluation_results = pd.read_csv(fraud_evaluation_results_url)\n",
    "\n",
    "approval_dict = {\n",
    "    'transaction_id': [],\n",
    "    'approval_decision': []\n",
    "}\n",
    "\n",
    "for _, row in fraud_evaluation_results.iterrows():\n",
    "    transaction_id = row['transaction_id']\n",
    "    fraud_chance = row['fraud_chance']\n",
    "\n",
    "    # Classify transactions based on the specified criteria\n",
    "    if fraud_chance in ['high', 'medium-high']:\n",
    "        approval_decision = 'deny'\n",
    "    else:\n",
    "        approval_decision = 'approve'\n",
    "\n",
    "    # Append the results to the dictionary\n",
    "    approval_dict['transaction_id'].append(transaction_id)\n",
    "    approval_dict['approval_decision'].append(approval_decision)\n",
    "\n",
    "approval_df = pd.DataFrame(approval_dict)\n",
    "\n",
    "parent_folder = os.path.abspath(os.path.join(os.getcwd(), os.pardir))\n",
    "\n",
    "antifraud_folder = os.path.join(parent_folder, 'antifraud')\n",
    "if not os.path.exists(antifraud_folder):\n",
    "    os.makedirs(antifraud_folder)\n",
    "\n",
    "csv_path = os.path.join(antifraud_folder, 'approval_decisions.csv')\n",
    "approval_df.to_csv(csv_path, index=False)"
   ]
  },
  {
   "cell_type": "code",
   "execution_count": null,
   "id": "a3e84547-24fa-4ff0-9c75-2ae875e038ca",
   "metadata": {},
   "outputs": [],
   "source": []
  },
  {
   "cell_type": "code",
   "execution_count": null,
   "id": "6ba59057-46f0-469e-a9c7-a24b8be4c8cd",
   "metadata": {},
   "outputs": [],
   "source": []
  },
  {
   "cell_type": "code",
   "execution_count": null,
   "id": "73544146-f09a-4e1d-912c-3d1734711729",
   "metadata": {},
   "outputs": [],
   "source": []
  }
 ],
 "metadata": {
  "kernelspec": {
   "display_name": "Python 3 (ipykernel)",
   "language": "python",
   "name": "python3"
  },
  "language_info": {
   "codemirror_mode": {
    "name": "ipython",
    "version": 3
   },
   "file_extension": ".py",
   "mimetype": "text/x-python",
   "name": "python",
   "nbconvert_exporter": "python",
   "pygments_lexer": "ipython3",
   "version": "3.11.5"
  }
 },
 "nbformat": 4,
 "nbformat_minor": 5
}
