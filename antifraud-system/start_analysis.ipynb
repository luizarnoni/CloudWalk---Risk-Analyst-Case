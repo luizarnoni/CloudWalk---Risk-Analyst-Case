{
 "cells": [
  {
   "cell_type": "code",
   "execution_count": 4,
   "id": "31d291d4-ed74-46d8-b682-69b1bc15bf9d",
   "metadata": {
    "tags": []
   },
 import os

def execute_notebook(notebook_path):
    os.system(f"jupyter nbconvert --execute --inplace {notebook_path}")

execute_notebook("src/transactions_analysis.ipynb")
execute_notebook("src/entitys_analysis.ipynb")
execute_notebook("src/fraud_evaluation.ipynb")
execute_notebook("src/transactions_decision.ipynb")
  },
  {
   "cell_type": "code",
   "execution_count": null,
   "id": "74813be0-53de-420f-aa78-89db099949db",
   "metadata": {},
   "outputs": [],
   "source": []
  },
  {
   "cell_type": "code",
   "execution_count": null,
   "id": "2f82119a-57dc-4342-81fc-959c54e46516",
   "metadata": {},
   "outputs": [],
   "source": []
  }
 ],
 "metadata": {
  "kernelspec": {
   "display_name": "Python 3 (ipykernel)",
   "language": "python",
   "name": "python3"
  },
  "language_info": {
   "codemirror_mode": {
    "name": "ipython",
    "version": 3
   },
   "file_extension": ".py",
   "mimetype": "text/x-python",
   "name": "python",
   "nbconvert_exporter": "python",
   "pygments_lexer": "ipython3",
   "version": "3.11.5"
  }
 },
 "nbformat": 4,
 "nbformat_minor": 5
}
