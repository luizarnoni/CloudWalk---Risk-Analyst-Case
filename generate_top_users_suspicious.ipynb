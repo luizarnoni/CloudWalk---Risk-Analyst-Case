{
 "cells": [
  {
   "cell_type": "code",
   "execution_count": 1,
   "id": "94eea83c-69ea-467d-9f25-2c14bca84a5d",
   "metadata": {
    "tags": []
   },
   "outputs": [
    {
     "name": "stdout",
     "output_type": "stream",
     "text": [
      "Result exported to 'top_users_with_merchant_suspicious_transactions.csv'\n"
     ]
    }
   ],
   "source": [
    "\n",
    "import pandas as pd\n",
    "\n",
    "# Load the transactional data\n",
    "transactional_data_url = 'https://gist.githubusercontent.com/cloudwalk-tests/76993838e65d7e0f988f40f1b1909c97/raw/9ceae962009236d3570f46e59ce9aa334e4e290f/transactional-sample.csv'\n",
    "transactional_data = pd.read_csv(transactional_data_url)[['user_id', 'merchant_id', 'transaction_amount', 'transaction_id']]\n",
    "\n",
    "# Load the entity summary CSV file\n",
    "entity_summary_url = 'https://raw.githubusercontent.com/luizarnoni/CloudWalk---Risk-Analyst-Case/main/entity_summary.csv'\n",
    "entity_summary = pd.read_csv(entity_summary_url)[['entity_id', 'entity_type', 'num_suspicious_transactions']]\n",
    "\n",
    "# Load the suspicious transactions CSV file\n",
    "suspicious_transactions_url = 'https://raw.githubusercontent.com/luizarnoni/CloudWalk---Risk-Analyst-Case/main/suspicious_transactions.csv'\n",
    "suspicious_transactions = pd.read_csv(suspicious_transactions_url)[['transaction_id', 'score']]\n",
    "\n",
    "# Merge transactional_data with suspicious_transactions based on transaction_id\n",
    "merged_data = pd.merge(transactional_data, suspicious_transactions, on='transaction_id', how='left')\n",
    "\n",
    "# Filter merged_data for suspicious transactions\n",
    "suspicious_data = merged_data.dropna(subset=['score'])\n",
    "\n",
    "# Group by user_id and merchant_id, count the occurrences, and get the transaction IDs\n",
    "user_merchant_counts = suspicious_data.groupby(['user_id', 'merchant_id'])['transaction_id'].agg(['count', 'unique']).reset_index()\n",
    "\n",
    "# Sort by count in descending order\n",
    "top_users_with_merchant = user_merchant_counts.sort_values(by='count', ascending=False).head(30)\n",
    "\n",
    "# Export the result to CSV\n",
    "top_users_with_merchant.to_csv('top_users_with_merchant_suspicious_transactions.csv', index=False)\n",
    "\n",
    "print(\"Result exported to 'top_users_with_merchant_suspicious_transactions.csv'\")"
   ]
  },
  {
   "cell_type": "code",
   "execution_count": null,
   "id": "dacb5271-585b-4913-bbbb-04ed7e66fe6e",
   "metadata": {},
   "outputs": [],
   "source": []
  }
 ],
 "metadata": {
  "kernelspec": {
   "display_name": "Python 3 (ipykernel)",
   "language": "python",
   "name": "python3"
  },
  "language_info": {
   "codemirror_mode": {
    "name": "ipython",
    "version": 3
   },
   "file_extension": ".py",
   "mimetype": "text/x-python",
   "name": "python",
   "nbconvert_exporter": "python",
   "pygments_lexer": "ipython3",
   "version": "3.11.5"
  }
 },
 "nbformat": 4,
 "nbformat_minor": 5
}
